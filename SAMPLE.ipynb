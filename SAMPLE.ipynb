{
  "nbformat": 4,
  "nbformat_minor": 0,
  "metadata": {
    "colab": {
      "name": "Untitled0.ipynb",
      "provenance": [],
      "authorship_tag": "ABX9TyMTfpIH1Icb6iahE1C/Hiow",
      "include_colab_link": true
    },
    "kernelspec": {
      "name": "python3",
      "display_name": "Python 3"
    },
    "language_info": {
      "name": "python"
    }
  },
  "cells": [
    {
      "cell_type": "markdown",
      "metadata": {
        "id": "view-in-github",
        "colab_type": "text"
      },
      "source": [
        "<a href=\"https://colab.research.google.com/github/octaviasst/LEARN-CNN/blob/main/SAMPLE.ipynb\" target=\"_parent\"><img src=\"https://colab.research.google.com/assets/colab-badge.svg\" alt=\"Open In Colab\"/></a>"
      ]
    },
    {
      "cell_type": "code",
      "execution_count": 1,
      "metadata": {
        "colab": {
          "base_uri": "https://localhost:8080/"
        },
        "id": "hZxYBcnWz3iL",
        "outputId": "7125a00b-74c5-48c4-d7ed-71057d5db7f2"
      },
      "outputs": [
        {
          "output_type": "stream",
          "name": "stdout",
          "text": [
            "[4]\n",
            "[4, 5]\n",
            "[4, 5, 5]\n"
          ]
        }
      ],
      "source": [
        "x = [3,4, 5,2, 5, 3, 7, 7]\n",
        "\n",
        "output = []\n",
        "\n",
        "for i in x:\n",
        "  if 3 < i < 7:\n",
        "    output.append(i)\n",
        "\n",
        "    print(output)"
      ]
    }
  ]
}