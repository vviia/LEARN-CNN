{
  "nbformat": 4,
  "nbformat_minor": 0,
  "metadata": {
    "colab": {
      "name": "Salinan-CNN-Data-Dari-Dosen.ipynb",
      "provenance": [],
      "collapsed_sections": [],
      "mount_file_id": "1f-llMlh05y1ZBqMaz7Em-FSOO7xfk8nq",
      "authorship_tag": "ABX9TyNUKNc+DoixiQahkhG5VUzA",
      "include_colab_link": true
    },
    "kernelspec": {
      "name": "python3",
      "display_name": "Python 3"
    },
    "language_info": {
      "name": "python"
    }
  },
  "cells": [
    {
      "cell_type": "markdown",
      "metadata": {
        "id": "view-in-github",
        "colab_type": "text"
      },
      "source": [
        "<a href=\"https://colab.research.google.com/github/octaviasst/LEARN-CNN/blob/main/Salinan_CNN_Data_Dari_Dosen.ipynb\" target=\"_parent\"><img src=\"https://colab.research.google.com/assets/colab-badge.svg\" alt=\"Open In Colab\"/></a>"
      ]
    },
    {
      "cell_type": "markdown",
      "source": [
        "import library"
      ],
      "metadata": {
        "id": "5f_mS5OQstXn"
      }
    },
    {
      "cell_type": "code",
      "execution_count": null,
      "metadata": {
        "id": "JQ_EpVR8q7yG"
      },
      "outputs": [],
      "source": [
        "import numpy as np\n",
        "import pandas as pd\n",
        "import seaborn as sns\n",
        "import matplotlib.pyplot as plt\n",
        "from sklearn.metrics import classification_report\n",
        "from sklearn.model_selection import train_test_split\n",
        "from sklearn.metrics import f1_score\n",
        "from sklearn.metrics import confusion_matrix\n",
        "from keras.utils.np_utils import to_categorical\n",
        "from sklearn.utils import class_weight\n",
        "import warnings\n",
        "warnings.filterwarnings('ignore')"
      ]
    },
    {
      "cell_type": "markdown",
      "source": [
        "read file"
      ],
      "metadata": {
        "id": "wxTm0hk4sxS6"
      }
    },
    {
      "cell_type": "code",
      "source": [
        "X_train = pd.read_csv('/content/drive/MyDrive/CNN-TESIS/data-percobaan/xtrain1.csv',header=None) \n",
        "X_test = pd.read_csv('/content/drive/MyDrive/CNN-TESIS/data-percobaan/xtest1.csv',header=None)\n",
        "y_train = pd.read_csv('/content/drive/MyDrive/CNN-TESIS/data-percobaan/ytrain01.csv', header=None)\n",
        "y_test= pd.read_csv('/content/drive/MyDrive/CNN-TESIS/data-percobaan/ytest.csv', header=None)\n"
      ],
      "metadata": {
        "id": "loYG42uyszRN"
      },
      "execution_count": null,
      "outputs": []
    },
    {
      "cell_type": "code",
      "source": [
        "X_train.shape"
      ],
      "metadata": {
        "colab": {
          "base_uri": "https://localhost:8080/"
        },
        "id": "PY4lzifdvQ83",
        "outputId": "a245f604-37e3-4f1d-b5ed-a1c6bf664fcc"
      },
      "execution_count": null,
      "outputs": [
        {
          "output_type": "execute_result",
          "data": {
            "text/plain": [
              "(90, 40)"
            ]
          },
          "metadata": {},
          "execution_count": 3
        }
      ]
    },
    {
      "cell_type": "code",
      "source": [
        "X_train.head()"
      ],
      "metadata": {
        "colab": {
          "base_uri": "https://localhost:8080/",
          "height": 270
        },
        "id": "WiTx2CKs7REp",
        "outputId": "45ca758b-db97-4948-f260-02f23ea6dbdd"
      },
      "execution_count": null,
      "outputs": [
        {
          "output_type": "execute_result",
          "data": {
            "text/html": [
              "\n",
              "  <div id=\"df-2f96e2e5-b710-44b8-b0ac-1847474a0d92\">\n",
              "    <div class=\"colab-df-container\">\n",
              "      <div>\n",
              "<style scoped>\n",
              "    .dataframe tbody tr th:only-of-type {\n",
              "        vertical-align: middle;\n",
              "    }\n",
              "\n",
              "    .dataframe tbody tr th {\n",
              "        vertical-align: top;\n",
              "    }\n",
              "\n",
              "    .dataframe thead th {\n",
              "        text-align: right;\n",
              "    }\n",
              "</style>\n",
              "<table border=\"1\" class=\"dataframe\">\n",
              "  <thead>\n",
              "    <tr style=\"text-align: right;\">\n",
              "      <th></th>\n",
              "      <th>0</th>\n",
              "      <th>1</th>\n",
              "      <th>2</th>\n",
              "      <th>3</th>\n",
              "      <th>4</th>\n",
              "      <th>5</th>\n",
              "      <th>6</th>\n",
              "      <th>7</th>\n",
              "      <th>8</th>\n",
              "      <th>9</th>\n",
              "      <th>10</th>\n",
              "      <th>11</th>\n",
              "      <th>12</th>\n",
              "      <th>13</th>\n",
              "      <th>14</th>\n",
              "      <th>15</th>\n",
              "      <th>16</th>\n",
              "      <th>17</th>\n",
              "      <th>18</th>\n",
              "      <th>19</th>\n",
              "      <th>20</th>\n",
              "      <th>21</th>\n",
              "      <th>22</th>\n",
              "      <th>23</th>\n",
              "      <th>24</th>\n",
              "      <th>25</th>\n",
              "      <th>26</th>\n",
              "      <th>27</th>\n",
              "      <th>28</th>\n",
              "      <th>29</th>\n",
              "      <th>30</th>\n",
              "      <th>31</th>\n",
              "      <th>32</th>\n",
              "      <th>33</th>\n",
              "      <th>34</th>\n",
              "      <th>35</th>\n",
              "      <th>36</th>\n",
              "      <th>37</th>\n",
              "      <th>38</th>\n",
              "      <th>39</th>\n",
              "    </tr>\n",
              "  </thead>\n",
              "  <tbody>\n",
              "    <tr>\n",
              "      <th>0</th>\n",
              "      <td>0.002240</td>\n",
              "      <td>0.423903</td>\n",
              "      <td>0.209612</td>\n",
              "      <td>0.288928</td>\n",
              "      <td>0.353648</td>\n",
              "      <td>0.070660</td>\n",
              "      <td>0.466341</td>\n",
              "      <td>0.097274</td>\n",
              "      <td>0.043502</td>\n",
              "      <td>0.329283</td>\n",
              "      <td>0.186150</td>\n",
              "      <td>0.271967</td>\n",
              "      <td>0.295906</td>\n",
              "      <td>0.335215</td>\n",
              "      <td>0.109557</td>\n",
              "      <td>0.140010</td>\n",
              "      <td>0.260327</td>\n",
              "      <td>0.153750</td>\n",
              "      <td>0.338072</td>\n",
              "      <td>0.116715</td>\n",
              "      <td>0.002240</td>\n",
              "      <td>0.423903</td>\n",
              "      <td>0.209612</td>\n",
              "      <td>0.288928</td>\n",
              "      <td>0.353648</td>\n",
              "      <td>0.070660</td>\n",
              "      <td>0.466341</td>\n",
              "      <td>0.097274</td>\n",
              "      <td>0.043502</td>\n",
              "      <td>0.329283</td>\n",
              "      <td>0.186150</td>\n",
              "      <td>0.271967</td>\n",
              "      <td>0.295906</td>\n",
              "      <td>0.335215</td>\n",
              "      <td>0.109557</td>\n",
              "      <td>0.140010</td>\n",
              "      <td>0.260327</td>\n",
              "      <td>0.153750</td>\n",
              "      <td>0.338072</td>\n",
              "      <td>0.116715</td>\n",
              "    </tr>\n",
              "    <tr>\n",
              "      <th>1</th>\n",
              "      <td>0.107504</td>\n",
              "      <td>0.162968</td>\n",
              "      <td>0.331926</td>\n",
              "      <td>0.177764</td>\n",
              "      <td>0.264647</td>\n",
              "      <td>0.170586</td>\n",
              "      <td>0.012190</td>\n",
              "      <td>0.472734</td>\n",
              "      <td>0.364628</td>\n",
              "      <td>0.080461</td>\n",
              "      <td>0.497110</td>\n",
              "      <td>0.016123</td>\n",
              "      <td>0.055327</td>\n",
              "      <td>0.460011</td>\n",
              "      <td>0.242738</td>\n",
              "      <td>0.372419</td>\n",
              "      <td>0.476126</td>\n",
              "      <td>0.397587</td>\n",
              "      <td>0.191736</td>\n",
              "      <td>0.072539</td>\n",
              "      <td>0.107504</td>\n",
              "      <td>0.162968</td>\n",
              "      <td>0.331926</td>\n",
              "      <td>0.177764</td>\n",
              "      <td>0.264647</td>\n",
              "      <td>0.170586</td>\n",
              "      <td>0.012190</td>\n",
              "      <td>0.472734</td>\n",
              "      <td>0.364628</td>\n",
              "      <td>0.080461</td>\n",
              "      <td>0.497110</td>\n",
              "      <td>0.016123</td>\n",
              "      <td>0.055327</td>\n",
              "      <td>0.460011</td>\n",
              "      <td>0.242738</td>\n",
              "      <td>0.372419</td>\n",
              "      <td>0.476126</td>\n",
              "      <td>0.397587</td>\n",
              "      <td>0.191736</td>\n",
              "      <td>0.072539</td>\n",
              "    </tr>\n",
              "    <tr>\n",
              "      <th>2</th>\n",
              "      <td>0.136765</td>\n",
              "      <td>0.117694</td>\n",
              "      <td>0.097720</td>\n",
              "      <td>0.227777</td>\n",
              "      <td>0.490025</td>\n",
              "      <td>0.007247</td>\n",
              "      <td>0.391747</td>\n",
              "      <td>0.386746</td>\n",
              "      <td>0.166154</td>\n",
              "      <td>0.351323</td>\n",
              "      <td>0.319461</td>\n",
              "      <td>0.285731</td>\n",
              "      <td>0.392890</td>\n",
              "      <td>0.082810</td>\n",
              "      <td>0.141209</td>\n",
              "      <td>0.023139</td>\n",
              "      <td>0.372129</td>\n",
              "      <td>0.236707</td>\n",
              "      <td>0.435848</td>\n",
              "      <td>0.139214</td>\n",
              "      <td>0.136765</td>\n",
              "      <td>0.117694</td>\n",
              "      <td>0.097720</td>\n",
              "      <td>0.227777</td>\n",
              "      <td>0.490025</td>\n",
              "      <td>0.007247</td>\n",
              "      <td>0.391747</td>\n",
              "      <td>0.386746</td>\n",
              "      <td>0.166154</td>\n",
              "      <td>0.351323</td>\n",
              "      <td>0.319461</td>\n",
              "      <td>0.285731</td>\n",
              "      <td>0.392890</td>\n",
              "      <td>0.082810</td>\n",
              "      <td>0.141209</td>\n",
              "      <td>0.023139</td>\n",
              "      <td>0.372129</td>\n",
              "      <td>0.236707</td>\n",
              "      <td>0.435848</td>\n",
              "      <td>0.139214</td>\n",
              "    </tr>\n",
              "    <tr>\n",
              "      <th>3</th>\n",
              "      <td>0.351805</td>\n",
              "      <td>0.363254</td>\n",
              "      <td>0.086816</td>\n",
              "      <td>0.198444</td>\n",
              "      <td>0.182740</td>\n",
              "      <td>0.272548</td>\n",
              "      <td>0.077330</td>\n",
              "      <td>0.389433</td>\n",
              "      <td>0.228366</td>\n",
              "      <td>0.288870</td>\n",
              "      <td>0.225075</td>\n",
              "      <td>0.479799</td>\n",
              "      <td>0.306653</td>\n",
              "      <td>0.116473</td>\n",
              "      <td>0.240026</td>\n",
              "      <td>0.258700</td>\n",
              "      <td>0.361202</td>\n",
              "      <td>0.127531</td>\n",
              "      <td>0.088959</td>\n",
              "      <td>0.140681</td>\n",
              "      <td>0.351805</td>\n",
              "      <td>0.363254</td>\n",
              "      <td>0.086816</td>\n",
              "      <td>0.198444</td>\n",
              "      <td>0.182740</td>\n",
              "      <td>0.272548</td>\n",
              "      <td>0.077330</td>\n",
              "      <td>0.389433</td>\n",
              "      <td>0.228366</td>\n",
              "      <td>0.288870</td>\n",
              "      <td>0.225075</td>\n",
              "      <td>0.479799</td>\n",
              "      <td>0.306653</td>\n",
              "      <td>0.116473</td>\n",
              "      <td>0.240026</td>\n",
              "      <td>0.258700</td>\n",
              "      <td>0.361202</td>\n",
              "      <td>0.127531</td>\n",
              "      <td>0.088959</td>\n",
              "      <td>0.140681</td>\n",
              "    </tr>\n",
              "    <tr>\n",
              "      <th>4</th>\n",
              "      <td>0.403048</td>\n",
              "      <td>0.068855</td>\n",
              "      <td>0.478228</td>\n",
              "      <td>0.074011</td>\n",
              "      <td>0.309920</td>\n",
              "      <td>0.186008</td>\n",
              "      <td>0.036628</td>\n",
              "      <td>0.274388</td>\n",
              "      <td>0.237683</td>\n",
              "      <td>0.142164</td>\n",
              "      <td>0.372140</td>\n",
              "      <td>0.414868</td>\n",
              "      <td>0.176298</td>\n",
              "      <td>0.392113</td>\n",
              "      <td>0.342083</td>\n",
              "      <td>0.082310</td>\n",
              "      <td>0.062824</td>\n",
              "      <td>0.277688</td>\n",
              "      <td>0.052752</td>\n",
              "      <td>0.209177</td>\n",
              "      <td>0.403048</td>\n",
              "      <td>0.068855</td>\n",
              "      <td>0.478228</td>\n",
              "      <td>0.074011</td>\n",
              "      <td>0.309920</td>\n",
              "      <td>0.186008</td>\n",
              "      <td>0.036628</td>\n",
              "      <td>0.274388</td>\n",
              "      <td>0.237683</td>\n",
              "      <td>0.142164</td>\n",
              "      <td>0.372140</td>\n",
              "      <td>0.414868</td>\n",
              "      <td>0.176298</td>\n",
              "      <td>0.392113</td>\n",
              "      <td>0.342083</td>\n",
              "      <td>0.082310</td>\n",
              "      <td>0.062824</td>\n",
              "      <td>0.277688</td>\n",
              "      <td>0.052752</td>\n",
              "      <td>0.209177</td>\n",
              "    </tr>\n",
              "  </tbody>\n",
              "</table>\n",
              "</div>\n",
              "      <button class=\"colab-df-convert\" onclick=\"convertToInteractive('df-2f96e2e5-b710-44b8-b0ac-1847474a0d92')\"\n",
              "              title=\"Convert this dataframe to an interactive table.\"\n",
              "              style=\"display:none;\">\n",
              "        \n",
              "  <svg xmlns=\"http://www.w3.org/2000/svg\" height=\"24px\"viewBox=\"0 0 24 24\"\n",
              "       width=\"24px\">\n",
              "    <path d=\"M0 0h24v24H0V0z\" fill=\"none\"/>\n",
              "    <path d=\"M18.56 5.44l.94 2.06.94-2.06 2.06-.94-2.06-.94-.94-2.06-.94 2.06-2.06.94zm-11 1L8.5 8.5l.94-2.06 2.06-.94-2.06-.94L8.5 2.5l-.94 2.06-2.06.94zm10 10l.94 2.06.94-2.06 2.06-.94-2.06-.94-.94-2.06-.94 2.06-2.06.94z\"/><path d=\"M17.41 7.96l-1.37-1.37c-.4-.4-.92-.59-1.43-.59-.52 0-1.04.2-1.43.59L10.3 9.45l-7.72 7.72c-.78.78-.78 2.05 0 2.83L4 21.41c.39.39.9.59 1.41.59.51 0 1.02-.2 1.41-.59l7.78-7.78 2.81-2.81c.8-.78.8-2.07 0-2.86zM5.41 20L4 18.59l7.72-7.72 1.47 1.35L5.41 20z\"/>\n",
              "  </svg>\n",
              "      </button>\n",
              "      \n",
              "  <style>\n",
              "    .colab-df-container {\n",
              "      display:flex;\n",
              "      flex-wrap:wrap;\n",
              "      gap: 12px;\n",
              "    }\n",
              "\n",
              "    .colab-df-convert {\n",
              "      background-color: #E8F0FE;\n",
              "      border: none;\n",
              "      border-radius: 50%;\n",
              "      cursor: pointer;\n",
              "      display: none;\n",
              "      fill: #1967D2;\n",
              "      height: 32px;\n",
              "      padding: 0 0 0 0;\n",
              "      width: 32px;\n",
              "    }\n",
              "\n",
              "    .colab-df-convert:hover {\n",
              "      background-color: #E2EBFA;\n",
              "      box-shadow: 0px 1px 2px rgba(60, 64, 67, 0.3), 0px 1px 3px 1px rgba(60, 64, 67, 0.15);\n",
              "      fill: #174EA6;\n",
              "    }\n",
              "\n",
              "    [theme=dark] .colab-df-convert {\n",
              "      background-color: #3B4455;\n",
              "      fill: #D2E3FC;\n",
              "    }\n",
              "\n",
              "    [theme=dark] .colab-df-convert:hover {\n",
              "      background-color: #434B5C;\n",
              "      box-shadow: 0px 1px 3px 1px rgba(0, 0, 0, 0.15);\n",
              "      filter: drop-shadow(0px 1px 2px rgba(0, 0, 0, 0.3));\n",
              "      fill: #FFFFFF;\n",
              "    }\n",
              "  </style>\n",
              "\n",
              "      <script>\n",
              "        const buttonEl =\n",
              "          document.querySelector('#df-2f96e2e5-b710-44b8-b0ac-1847474a0d92 button.colab-df-convert');\n",
              "        buttonEl.style.display =\n",
              "          google.colab.kernel.accessAllowed ? 'block' : 'none';\n",
              "\n",
              "        async function convertToInteractive(key) {\n",
              "          const element = document.querySelector('#df-2f96e2e5-b710-44b8-b0ac-1847474a0d92');\n",
              "          const dataTable =\n",
              "            await google.colab.kernel.invokeFunction('convertToInteractive',\n",
              "                                                     [key], {});\n",
              "          if (!dataTable) return;\n",
              "\n",
              "          const docLinkHtml = 'Like what you see? Visit the ' +\n",
              "            '<a target=\"_blank\" href=https://colab.research.google.com/notebooks/data_table.ipynb>data table notebook</a>'\n",
              "            + ' to learn more about interactive tables.';\n",
              "          element.innerHTML = '';\n",
              "          dataTable['output_type'] = 'display_data';\n",
              "          await google.colab.output.renderOutput(dataTable, element);\n",
              "          const docLink = document.createElement('div');\n",
              "          docLink.innerHTML = docLinkHtml;\n",
              "          element.appendChild(docLink);\n",
              "        }\n",
              "      </script>\n",
              "    </div>\n",
              "  </div>\n",
              "  "
            ],
            "text/plain": [
              "         0         1         2   ...        37        38        39\n",
              "0  0.002240  0.423903  0.209612  ...  0.153750  0.338072  0.116715\n",
              "1  0.107504  0.162968  0.331926  ...  0.397587  0.191736  0.072539\n",
              "2  0.136765  0.117694  0.097720  ...  0.236707  0.435848  0.139214\n",
              "3  0.351805  0.363254  0.086816  ...  0.127531  0.088959  0.140681\n",
              "4  0.403048  0.068855  0.478228  ...  0.277688  0.052752  0.209177\n",
              "\n",
              "[5 rows x 40 columns]"
            ]
          },
          "metadata": {},
          "execution_count": 4
        }
      ]
    },
    {
      "cell_type": "code",
      "source": [
        "y_train.shape"
      ],
      "metadata": {
        "colab": {
          "base_uri": "https://localhost:8080/"
        },
        "id": "Cc7xeuJKvUx-",
        "outputId": "489b4a70-6c36-463b-e226-ee92464bf631"
      },
      "execution_count": null,
      "outputs": [
        {
          "output_type": "execute_result",
          "data": {
            "text/plain": [
              "(90, 1)"
            ]
          },
          "metadata": {},
          "execution_count": 5
        }
      ]
    },
    {
      "cell_type": "code",
      "source": [
        "y_train.head()"
      ],
      "metadata": {
        "colab": {
          "base_uri": "https://localhost:8080/",
          "height": 206
        },
        "id": "59Avgqzc7Vb2",
        "outputId": "e14b9083-2887-4a14-bd03-531a2d857b3a"
      },
      "execution_count": null,
      "outputs": [
        {
          "output_type": "execute_result",
          "data": {
            "text/html": [
              "\n",
              "  <div id=\"df-fcfa224d-877b-4665-a800-7bff7d3a21ba\">\n",
              "    <div class=\"colab-df-container\">\n",
              "      <div>\n",
              "<style scoped>\n",
              "    .dataframe tbody tr th:only-of-type {\n",
              "        vertical-align: middle;\n",
              "    }\n",
              "\n",
              "    .dataframe tbody tr th {\n",
              "        vertical-align: top;\n",
              "    }\n",
              "\n",
              "    .dataframe thead th {\n",
              "        text-align: right;\n",
              "    }\n",
              "</style>\n",
              "<table border=\"1\" class=\"dataframe\">\n",
              "  <thead>\n",
              "    <tr style=\"text-align: right;\">\n",
              "      <th></th>\n",
              "      <th>0</th>\n",
              "    </tr>\n",
              "  </thead>\n",
              "  <tbody>\n",
              "    <tr>\n",
              "      <th>0</th>\n",
              "      <td>0</td>\n",
              "    </tr>\n",
              "    <tr>\n",
              "      <th>1</th>\n",
              "      <td>0</td>\n",
              "    </tr>\n",
              "    <tr>\n",
              "      <th>2</th>\n",
              "      <td>0</td>\n",
              "    </tr>\n",
              "    <tr>\n",
              "      <th>3</th>\n",
              "      <td>0</td>\n",
              "    </tr>\n",
              "    <tr>\n",
              "      <th>4</th>\n",
              "      <td>0</td>\n",
              "    </tr>\n",
              "  </tbody>\n",
              "</table>\n",
              "</div>\n",
              "      <button class=\"colab-df-convert\" onclick=\"convertToInteractive('df-fcfa224d-877b-4665-a800-7bff7d3a21ba')\"\n",
              "              title=\"Convert this dataframe to an interactive table.\"\n",
              "              style=\"display:none;\">\n",
              "        \n",
              "  <svg xmlns=\"http://www.w3.org/2000/svg\" height=\"24px\"viewBox=\"0 0 24 24\"\n",
              "       width=\"24px\">\n",
              "    <path d=\"M0 0h24v24H0V0z\" fill=\"none\"/>\n",
              "    <path d=\"M18.56 5.44l.94 2.06.94-2.06 2.06-.94-2.06-.94-.94-2.06-.94 2.06-2.06.94zm-11 1L8.5 8.5l.94-2.06 2.06-.94-2.06-.94L8.5 2.5l-.94 2.06-2.06.94zm10 10l.94 2.06.94-2.06 2.06-.94-2.06-.94-.94-2.06-.94 2.06-2.06.94z\"/><path d=\"M17.41 7.96l-1.37-1.37c-.4-.4-.92-.59-1.43-.59-.52 0-1.04.2-1.43.59L10.3 9.45l-7.72 7.72c-.78.78-.78 2.05 0 2.83L4 21.41c.39.39.9.59 1.41.59.51 0 1.02-.2 1.41-.59l7.78-7.78 2.81-2.81c.8-.78.8-2.07 0-2.86zM5.41 20L4 18.59l7.72-7.72 1.47 1.35L5.41 20z\"/>\n",
              "  </svg>\n",
              "      </button>\n",
              "      \n",
              "  <style>\n",
              "    .colab-df-container {\n",
              "      display:flex;\n",
              "      flex-wrap:wrap;\n",
              "      gap: 12px;\n",
              "    }\n",
              "\n",
              "    .colab-df-convert {\n",
              "      background-color: #E8F0FE;\n",
              "      border: none;\n",
              "      border-radius: 50%;\n",
              "      cursor: pointer;\n",
              "      display: none;\n",
              "      fill: #1967D2;\n",
              "      height: 32px;\n",
              "      padding: 0 0 0 0;\n",
              "      width: 32px;\n",
              "    }\n",
              "\n",
              "    .colab-df-convert:hover {\n",
              "      background-color: #E2EBFA;\n",
              "      box-shadow: 0px 1px 2px rgba(60, 64, 67, 0.3), 0px 1px 3px 1px rgba(60, 64, 67, 0.15);\n",
              "      fill: #174EA6;\n",
              "    }\n",
              "\n",
              "    [theme=dark] .colab-df-convert {\n",
              "      background-color: #3B4455;\n",
              "      fill: #D2E3FC;\n",
              "    }\n",
              "\n",
              "    [theme=dark] .colab-df-convert:hover {\n",
              "      background-color: #434B5C;\n",
              "      box-shadow: 0px 1px 3px 1px rgba(0, 0, 0, 0.15);\n",
              "      filter: drop-shadow(0px 1px 2px rgba(0, 0, 0, 0.3));\n",
              "      fill: #FFFFFF;\n",
              "    }\n",
              "  </style>\n",
              "\n",
              "      <script>\n",
              "        const buttonEl =\n",
              "          document.querySelector('#df-fcfa224d-877b-4665-a800-7bff7d3a21ba button.colab-df-convert');\n",
              "        buttonEl.style.display =\n",
              "          google.colab.kernel.accessAllowed ? 'block' : 'none';\n",
              "\n",
              "        async function convertToInteractive(key) {\n",
              "          const element = document.querySelector('#df-fcfa224d-877b-4665-a800-7bff7d3a21ba');\n",
              "          const dataTable =\n",
              "            await google.colab.kernel.invokeFunction('convertToInteractive',\n",
              "                                                     [key], {});\n",
              "          if (!dataTable) return;\n",
              "\n",
              "          const docLinkHtml = 'Like what you see? Visit the ' +\n",
              "            '<a target=\"_blank\" href=https://colab.research.google.com/notebooks/data_table.ipynb>data table notebook</a>'\n",
              "            + ' to learn more about interactive tables.';\n",
              "          element.innerHTML = '';\n",
              "          dataTable['output_type'] = 'display_data';\n",
              "          await google.colab.output.renderOutput(dataTable, element);\n",
              "          const docLink = document.createElement('div');\n",
              "          docLink.innerHTML = docLinkHtml;\n",
              "          element.appendChild(docLink);\n",
              "        }\n",
              "      </script>\n",
              "    </div>\n",
              "  </div>\n",
              "  "
            ],
            "text/plain": [
              "   0\n",
              "0  0\n",
              "1  0\n",
              "2  0\n",
              "3  0\n",
              "4  0"
            ]
          },
          "metadata": {},
          "execution_count": 6
        }
      ]
    },
    {
      "cell_type": "markdown",
      "source": [
        "CNN Model"
      ],
      "metadata": {
        "id": "h36yi_-xsztG"
      }
    },
    {
      "cell_type": "code",
      "source": [
        "def network(X_train,y_train,X_test,y_test):\n",
        "    \n",
        "\n",
        "    im_shape=(X_train.shape[1],1)\n",
        "    inputs_cnn=Input(shape=(im_shape), name='inputs_cnn')\n",
        "    conv1_1=Convolution1D(64, (6), activation='relu', input_shape=im_shape)(inputs_cnn)\n",
        "    conv1_1=BatchNormalization()(conv1_1)\n",
        "    pool1=MaxPool1D(pool_size=(3), strides=(2), padding=\"same\")(conv1_1)\n",
        "    conv2_1=Convolution1D(64, (3), activation='relu', input_shape=im_shape)(pool1)\n",
        "    conv2_1=BatchNormalization()(conv2_1)\n",
        "    pool2=MaxPool1D(pool_size=(2), strides=(2), padding=\"same\")(conv2_1)\n",
        "    conv3_1=Convolution1D(64, (3), activation='relu', input_shape=im_shape)(pool2)\n",
        "    conv3_1=BatchNormalization()(conv3_1)\n",
        "    pool3=MaxPool1D(pool_size=(2), strides=(2), padding=\"same\")(conv3_1)\n",
        "    flatten=Flatten()(pool3)\n",
        "    dense_end1 = Dense(64, activation='relu')(flatten)\n",
        "    dense_end2 = Dense(32, activation='relu')(dense_end1)\n",
        "    main_output = Dense(5, activation='softmax', name='main_output')(dense_end2)\n",
        "    \n",
        "    \n",
        "    model = Model(inputs= inputs_cnn, outputs=main_output)\n",
        "    model.compile(optimizer='adam', loss='categorical_crossentropy',metrics = ['accuracy'])\n",
        "    \n",
        "    \n",
        "    callbacks = [EarlyStopping(monitor='val_loss', patience=8),\n",
        "             ModelCheckpoint(filepath='best_model.h5', monitor='val_loss', save_best_only=True)]\n",
        "\n",
        "    history=model.fit(X_train, y_train,epochs=10,callbacks=callbacks, batch_size=32,validation_data=(X_test,y_test))\n",
        "    model.load_weights('best_model.h5')\n",
        "    return(model,history)"
      ],
      "metadata": {
        "id": "1neHb3NWs17j"
      },
      "execution_count": null,
      "outputs": []
    },
    {
      "cell_type": "code",
      "source": [
        "def evaluate_model(history,X_test,y_test,model):\n",
        "    scores = model.evaluate((X_test),y_test, verbose=0)\n",
        "    print(\"Accuracy: %.2f%%\" % (scores[1]*100))\n",
        "    \n",
        "    print(history)\n",
        "    fig1, ax_acc = plt.subplots()\n",
        "    plt.plot(history.history['accuracy'])\n",
        "    plt.plot(history.history['val_accuracy'])\n",
        "    plt.xlabel('Epoch')\n",
        "    plt.ylabel('Accuracy')\n",
        "    plt.title('Model - Accuracy')\n",
        "    plt.legend(['Training', 'Validation'], loc='lower right')\n",
        "    plt.show()\n",
        "    \n",
        "    fig2, ax_loss = plt.subplots()\n",
        "    plt.xlabel('Epoch')\n",
        "    plt.ylabel('Loss')\n",
        "    plt.title('Model- Loss')\n",
        "    plt.legend(['Training', 'Validation'], loc='upper right')\n",
        "    plt.plot(history.history['loss'])\n",
        "    plt.plot(history.history['val_loss'])\n",
        "    plt.show()\n",
        "    target_names=['0','1']\n",
        "    \n",
        "    y_true=[]\n",
        "    for element in y_test:\n",
        "        y_true.append(np.argmax(element))\n",
        "    prediction_proba=model.predict(X_test)\n",
        "    prediction=np.argmax(prediction_proba,axis=1)\n",
        "    cnf_matrix = confusion_matrix(y_true, prediction)\n",
        "    "
      ],
      "metadata": {
        "id": "DN7liFfJs3cY"
      },
      "execution_count": null,
      "outputs": []
    },
    {
      "cell_type": "markdown",
      "source": [
        "training"
      ],
      "metadata": {
        "id": "Ml7DlquAtuCH"
      }
    },
    {
      "cell_type": "code",
      "source": [
        "from tensorflow.keras.utils import to_categorical\n",
        "y_train = to_categorical(y_train, 5)\n",
        "y_test = to_categorical(y_test, 5)\n",
        "y_train.shape"
      ],
      "metadata": {
        "colab": {
          "base_uri": "https://localhost:8080/"
        },
        "id": "9o6HrzjW76TC",
        "outputId": "76260a4c-7780-49d6-f2f1-c735edec8e27"
      },
      "execution_count": null,
      "outputs": [
        {
          "output_type": "execute_result",
          "data": {
            "text/plain": [
              "(90, 5)"
            ]
          },
          "metadata": {},
          "execution_count": 9
        }
      ]
    },
    {
      "cell_type": "code",
      "source": [
        "from keras.layers import Dense, Convolution1D, MaxPool1D, Flatten, Dropout\n",
        "from keras.layers import Input\n",
        "from keras.models import Model\n",
        "from tensorflow.keras.layers import BatchNormalization\n",
        "import keras\n",
        "from keras.callbacks import EarlyStopping, ModelCheckpoint\n",
        "\n",
        "model,history=network(X_train,y_train,X_test,y_test)"
      ],
      "metadata": {
        "colab": {
          "base_uri": "https://localhost:8080/"
        },
        "id": "SmqDra5DtvLk",
        "outputId": "6f19c65d-5e9c-455a-8ce5-b2bb99c421ed"
      },
      "execution_count": null,
      "outputs": [
        {
          "output_type": "stream",
          "name": "stdout",
          "text": [
            "Epoch 1/10\n",
            "3/3 [==============================] - 5s 467ms/step - loss: 1.6897 - accuracy: 0.2778 - val_loss: 1.5993 - val_accuracy: 0.4111\n",
            "Epoch 2/10\n",
            "3/3 [==============================] - 0s 150ms/step - loss: 0.7707 - accuracy: 0.6667 - val_loss: 1.5788 - val_accuracy: 0.8111\n",
            "Epoch 3/10\n",
            "3/3 [==============================] - 0s 108ms/step - loss: 0.4713 - accuracy: 0.8778 - val_loss: 1.5449 - val_accuracy: 0.9778\n",
            "Epoch 4/10\n",
            "3/3 [==============================] - 0s 151ms/step - loss: 0.3519 - accuracy: 0.8889 - val_loss: 1.5081 - val_accuracy: 1.0000\n",
            "Epoch 5/10\n",
            "3/3 [==============================] - 0s 62ms/step - loss: 0.2836 - accuracy: 0.8889 - val_loss: 1.4717 - val_accuracy: 1.0000\n",
            "Epoch 6/10\n",
            "3/3 [==============================] - 0s 60ms/step - loss: 0.2530 - accuracy: 0.8889 - val_loss: 1.4347 - val_accuracy: 1.0000\n",
            "Epoch 7/10\n",
            "3/3 [==============================] - 0s 61ms/step - loss: 0.2195 - accuracy: 0.8889 - val_loss: 1.3986 - val_accuracy: 1.0000\n",
            "Epoch 8/10\n",
            "3/3 [==============================] - 0s 60ms/step - loss: 0.1981 - accuracy: 0.9000 - val_loss: 1.3661 - val_accuracy: 1.0000\n",
            "Epoch 9/10\n",
            "3/3 [==============================] - 0s 53ms/step - loss: 0.1757 - accuracy: 0.9000 - val_loss: 1.3380 - val_accuracy: 1.0000\n",
            "Epoch 10/10\n",
            "3/3 [==============================] - 0s 63ms/step - loss: 0.1582 - accuracy: 0.9111 - val_loss: 1.3178 - val_accuracy: 1.0000\n"
          ]
        }
      ]
    },
    {
      "cell_type": "code",
      "source": [
        "from google.colab import drive\n",
        "drive.mount('/content/drive')"
      ],
      "metadata": {
        "id": "26OsPoRpJ5FP",
        "colab": {
          "base_uri": "https://localhost:8080/"
        },
        "outputId": "d6e91d59-4c2a-4ca3-87c9-06505db6a2b8"
      },
      "execution_count": null,
      "outputs": [
        {
          "output_type": "stream",
          "name": "stdout",
          "text": [
            "Drive already mounted at /content/drive; to attempt to forcibly remount, call drive.mount(\"/content/drive\", force_remount=True).\n"
          ]
        }
      ]
    },
    {
      "cell_type": "markdown",
      "source": [
        "plotting"
      ],
      "metadata": {
        "id": "PMxJOwUJ4fyq"
      }
    },
    {
      "cell_type": "code",
      "source": [
        "evaluate_model(history,X_test,y_test,model)\n",
        "y_pred=model.predict(X_test)"
      ],
      "metadata": {
        "colab": {
          "base_uri": "https://localhost:8080/",
          "height": 608
        },
        "id": "XieuE3Xb8U75",
        "outputId": "34b2e976-1d1e-450f-8677-6dadafef4bdd"
      },
      "execution_count": null,
      "outputs": [
        {
          "output_type": "stream",
          "name": "stdout",
          "text": [
            "Accuracy: 100.00%\n",
            "<keras.callbacks.History object at 0x7f7298ccb650>\n"
          ]
        },
        {
          "output_type": "display_data",
          "data": {
            "image/png": "[encoded data removed]",
            "text/plain": [
              "<Figure size 432x288 with 1 Axes>"
            ]
          },
          "metadata": {
            "needs_background": "light"
          }
        },
        {
          "output_type": "display_data",
          "data": {
            "image/png": "[encoded data removed]",
            "text/plain": [
              "<Figure size 432x288 with 1 Axes>"
            ]
          },
          "metadata": {
            "needs_background": "light"
          }
        }
      ]
    },
    {
      "cell_type": "code",
      "source": [
        "import itertools\n",
        "def plot_confusion_matrix(cm, classes,\n",
        "                          normalize=False,\n",
        "                          title='Confusion matrix',\n",
        "                          cmap=plt.cm.Blues):\n",
        "    \"\"\"\n",
        "    This function prints and plots the confusion matrix.\n",
        "    Normalization can be applied by setting `normalize=True`.\n",
        "    \"\"\"\n",
        "    if normalize:\n",
        "        cm = cm.astype('float') / cm.sum(axis=1)[:, np.newaxis]\n",
        "        print(\"Normalized confusion matrix\")\n",
        "    else:\n",
        "        print('Confusion matrix, without normalization')\n",
        "\n",
        "    plt.imshow(cm, interpolation='nearest', cmap=cmap)\n",
        "    plt.title(title)\n",
        "    plt.colorbar()\n",
        "    tick_marks = np.arange(len(classes))\n",
        "    plt.xticks(tick_marks, classes, rotation=45)\n",
        "    plt.yticks(tick_marks, classes)\n",
        "\n",
        "    fmt = '.2f' if normalize else 'd'\n",
        "    thresh = cm.max() / 2.\n",
        "    for i, j in itertools.product(range(cm.shape[0]), range(cm.shape[1])):\n",
        "        plt.text(j, i, format(cm[i, j], fmt),\n",
        "                 horizontalalignment=\"center\",\n",
        "                 color=\"white\" if cm[i, j] > thresh else \"black\")\n",
        "\n",
        "    plt.tight_layout()\n",
        "    plt.ylabel('True label')\n",
        "    plt.xlabel('Predicted label')\n",
        "\n",
        "# Compute confusion matrix\n",
        "cnf_matrix = confusion_matrix(y_test.argmax(axis=1), y_pred.argmax(axis=1))\n",
        "np.set_printoptions(precision=2)\n",
        "\n",
        "# Plot non-normalized confusion matrix\n",
        "plt.figure(figsize=(10, 10))\n",
        "plot_confusion_matrix(cnf_matrix, classes=['N', 'S'],normalize=True,\n",
        "                      title='Confusion matrix, with normalization')\n",
        "plt.show()"
      ],
      "metadata": {
        "colab": {
          "base_uri": "https://localhost:8080/",
          "height": 746
        },
        "id": "yH02Qr2w4evu",
        "outputId": "2c16137a-4276-4397-ba0f-dbb06826cd06"
      },
      "execution_count": null,
      "outputs": [
        {
          "output_type": "stream",
          "name": "stdout",
          "text": [
            "Normalized confusion matrix\n"
          ]
        },
        {
          "output_type": "display_data",
          "data": {
            "image/png": "[encoded data removed]",
            "text/plain": [
              "<Figure size 720x720 with 2 Axes>"
            ]
          },
          "metadata": {
            "needs_background": "light"
          }
        }
      ]
    }
  ]
}