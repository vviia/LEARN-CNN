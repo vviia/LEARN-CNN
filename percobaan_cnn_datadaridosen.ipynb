{
  "nbformat": 4,
  "nbformat_minor": 0,
  "metadata": {
    "colab": {
      "name": "percobaan-cnn-datadaridosen.ipynb",
      "provenance": [],
      "collapsed_sections": [],
      "mount_file_id": "15QitYma8tTtU_OUX9W9SuGYXAMzDc4i8",
      "authorship_tag": "ABX9TyOarnZBXPHtsThHEBZM6JAM",
      "include_colab_link": true
    },
    "kernelspec": {
      "name": "python3",
      "display_name": "Python 3"
    },
    "language_info": {
      "name": "python"
    }
  },
  "cells": [
    {
      "cell_type": "markdown",
      "metadata": {
        "id": "view-in-github",
        "colab_type": "text"
      },
      "source": [
        "<a href=\"https://colab.research.google.com/github/octaviasst/LEARN-CNN/blob/main/percobaan_cnn_datadaridosen.ipynb\" target=\"_parent\"><img src=\"https://colab.research.google.com/assets/colab-badge.svg\" alt=\"Open In Colab\"/></a>"
      ]
    },
    {
      "cell_type": "markdown",
      "source": [
        "import library"
      ],
      "metadata": {
        "id": "5f_mS5OQstXn"
      }
    },
    {
      "cell_type": "code",
      "execution_count": 25,
      "metadata": {
        "id": "JQ_EpVR8q7yG"
      },
      "outputs": [],
      "source": [
        "import numpy as np\n",
        "import pandas as pd\n",
        "import seaborn as sns\n",
        "import matplotlib.pyplot as plt\n",
        "from sklearn.metrics import classification_report\n",
        "from sklearn.model_selection import train_test_split\n",
        "from sklearn.metrics import f1_score\n",
        "from sklearn.metrics import confusion_matrix\n",
        "from keras.utils.np_utils import to_categorical\n",
        "from sklearn.utils import class_weight\n",
        "import warnings\n",
        "warnings.filterwarnings('ignore')"
      ]
    },
    {
      "cell_type": "markdown",
      "source": [
        "read file"
      ],
      "metadata": {
        "id": "wxTm0hk4sxS6"
      }
    },
    {
      "cell_type": "code",
      "source": [
        "X_train = pd.read_csv('/content/drive/MyDrive/CNN-TESIS/data-percobaan/xtrain.csv',header=None) \n",
        "X_test = pd.read_csv('/content/drive/MyDrive/CNN-TESIS/data-percobaan/xtest.csv',header=None)\n",
        "y_train = pd.read_csv('/content/drive/MyDrive/CNN-TESIS/data-percobaan/ytrain01.csv', header=None)\n",
        "y_test= pd.read_csv('/content/drive/MyDrive/CNN-TESIS/data-percobaan/ytest.csv', header=None)\n"
      ],
      "metadata": {
        "id": "loYG42uyszRN"
      },
      "execution_count": 26,
      "outputs": []
    },
    {
      "cell_type": "code",
      "source": [
        "X_train.shape"
      ],
      "metadata": {
        "colab": {
          "base_uri": "https://localhost:8080/"
        },
        "id": "PY4lzifdvQ83",
        "outputId": "c4109094-aa79-4408-f2ba-2d6f5a9736ce"
      },
      "execution_count": 27,
      "outputs": [
        {
          "output_type": "execute_result",
          "data": {
            "text/plain": [
              "(90, 20)"
            ]
          },
          "metadata": {},
          "execution_count": 27
        }
      ]
    },
    {
      "cell_type": "code",
      "source": [
        "X_train.head()"
      ],
      "metadata": {
        "colab": {
          "base_uri": "https://localhost:8080/",
          "height": 270
        },
        "id": "WiTx2CKs7REp",
        "outputId": "a933e266-d0ee-48c6-b308-ff5eae312d69"
      },
      "execution_count": 37,
      "outputs": [
        {
          "output_type": "execute_result",
          "data": {
            "text/html": [
              "\n",
              "  <div id=\"df-fc7d4d56-45b8-445b-a490-8240315430f3\">\n",
              "    <div class=\"colab-df-container\">\n",
              "      <div>\n",
              "<style scoped>\n",
              "    .dataframe tbody tr th:only-of-type {\n",
              "        vertical-align: middle;\n",
              "    }\n",
              "\n",
              "    .dataframe tbody tr th {\n",
              "        vertical-align: top;\n",
              "    }\n",
              "\n",
              "    .dataframe thead th {\n",
              "        text-align: right;\n",
              "    }\n",
              "</style>\n",
              "<table border=\"1\" class=\"dataframe\">\n",
              "  <thead>\n",
              "    <tr style=\"text-align: right;\">\n",
              "      <th></th>\n",
              "      <th>0</th>\n",
              "      <th>1</th>\n",
              "      <th>2</th>\n",
              "      <th>3</th>\n",
              "      <th>4</th>\n",
              "      <th>5</th>\n",
              "      <th>6</th>\n",
              "      <th>7</th>\n",
              "      <th>8</th>\n",
              "      <th>9</th>\n",
              "      <th>10</th>\n",
              "      <th>11</th>\n",
              "      <th>12</th>\n",
              "      <th>13</th>\n",
              "      <th>14</th>\n",
              "      <th>15</th>\n",
              "      <th>16</th>\n",
              "      <th>17</th>\n",
              "      <th>18</th>\n",
              "      <th>19</th>\n",
              "    </tr>\n",
              "  </thead>\n",
              "  <tbody>\n",
              "    <tr>\n",
              "      <th>0</th>\n",
              "      <td>0.002240</td>\n",
              "      <td>0.423903</td>\n",
              "      <td>0.209612</td>\n",
              "      <td>0.288928</td>\n",
              "      <td>0.353648</td>\n",
              "      <td>0.070660</td>\n",
              "      <td>0.466341</td>\n",
              "      <td>0.097274</td>\n",
              "      <td>0.043502</td>\n",
              "      <td>0.329283</td>\n",
              "      <td>0.186150</td>\n",
              "      <td>0.271967</td>\n",
              "      <td>0.295906</td>\n",
              "      <td>0.335215</td>\n",
              "      <td>0.109557</td>\n",
              "      <td>0.140010</td>\n",
              "      <td>0.260327</td>\n",
              "      <td>0.153750</td>\n",
              "      <td>0.338072</td>\n",
              "      <td>0.116715</td>\n",
              "    </tr>\n",
              "    <tr>\n",
              "      <th>1</th>\n",
              "      <td>0.107504</td>\n",
              "      <td>0.162968</td>\n",
              "      <td>0.331926</td>\n",
              "      <td>0.177764</td>\n",
              "      <td>0.264647</td>\n",
              "      <td>0.170586</td>\n",
              "      <td>0.012190</td>\n",
              "      <td>0.472734</td>\n",
              "      <td>0.364628</td>\n",
              "      <td>0.080461</td>\n",
              "      <td>0.497110</td>\n",
              "      <td>0.016123</td>\n",
              "      <td>0.055327</td>\n",
              "      <td>0.460011</td>\n",
              "      <td>0.242738</td>\n",
              "      <td>0.372419</td>\n",
              "      <td>0.476126</td>\n",
              "      <td>0.397587</td>\n",
              "      <td>0.191736</td>\n",
              "      <td>0.072539</td>\n",
              "    </tr>\n",
              "    <tr>\n",
              "      <th>2</th>\n",
              "      <td>0.136765</td>\n",
              "      <td>0.117694</td>\n",
              "      <td>0.097720</td>\n",
              "      <td>0.227777</td>\n",
              "      <td>0.490025</td>\n",
              "      <td>0.007247</td>\n",
              "      <td>0.391747</td>\n",
              "      <td>0.386746</td>\n",
              "      <td>0.166154</td>\n",
              "      <td>0.351323</td>\n",
              "      <td>0.319461</td>\n",
              "      <td>0.285731</td>\n",
              "      <td>0.392890</td>\n",
              "      <td>0.082810</td>\n",
              "      <td>0.141209</td>\n",
              "      <td>0.023139</td>\n",
              "      <td>0.372129</td>\n",
              "      <td>0.236707</td>\n",
              "      <td>0.435848</td>\n",
              "      <td>0.139214</td>\n",
              "    </tr>\n",
              "    <tr>\n",
              "      <th>3</th>\n",
              "      <td>0.351805</td>\n",
              "      <td>0.363254</td>\n",
              "      <td>0.086816</td>\n",
              "      <td>0.198444</td>\n",
              "      <td>0.182740</td>\n",
              "      <td>0.272548</td>\n",
              "      <td>0.077330</td>\n",
              "      <td>0.389433</td>\n",
              "      <td>0.228366</td>\n",
              "      <td>0.288870</td>\n",
              "      <td>0.225075</td>\n",
              "      <td>0.479799</td>\n",
              "      <td>0.306653</td>\n",
              "      <td>0.116473</td>\n",
              "      <td>0.240026</td>\n",
              "      <td>0.258700</td>\n",
              "      <td>0.361202</td>\n",
              "      <td>0.127531</td>\n",
              "      <td>0.088959</td>\n",
              "      <td>0.140681</td>\n",
              "    </tr>\n",
              "    <tr>\n",
              "      <th>4</th>\n",
              "      <td>0.403048</td>\n",
              "      <td>0.068855</td>\n",
              "      <td>0.478228</td>\n",
              "      <td>0.074011</td>\n",
              "      <td>0.309920</td>\n",
              "      <td>0.186008</td>\n",
              "      <td>0.036628</td>\n",
              "      <td>0.274388</td>\n",
              "      <td>0.237683</td>\n",
              "      <td>0.142164</td>\n",
              "      <td>0.372140</td>\n",
              "      <td>0.414868</td>\n",
              "      <td>0.176298</td>\n",
              "      <td>0.392113</td>\n",
              "      <td>0.342083</td>\n",
              "      <td>0.082310</td>\n",
              "      <td>0.062824</td>\n",
              "      <td>0.277688</td>\n",
              "      <td>0.052752</td>\n",
              "      <td>0.209177</td>\n",
              "    </tr>\n",
              "  </tbody>\n",
              "</table>\n",
              "</div>\n",
              "      <button class=\"colab-df-convert\" onclick=\"convertToInteractive('df-fc7d4d56-45b8-445b-a490-8240315430f3')\"\n",
              "              title=\"Convert this dataframe to an interactive table.\"\n",
              "              style=\"display:none;\">\n",
              "        \n",
              "  <svg xmlns=\"http://www.w3.org/2000/svg\" height=\"24px\"viewBox=\"0 0 24 24\"\n",
              "       width=\"24px\">\n",
              "    <path d=\"M0 0h24v24H0V0z\" fill=\"none\"/>\n",
              "    <path d=\"M18.56 5.44l.94 2.06.94-2.06 2.06-.94-2.06-.94-.94-2.06-.94 2.06-2.06.94zm-11 1L8.5 8.5l.94-2.06 2.06-.94-2.06-.94L8.5 2.5l-.94 2.06-2.06.94zm10 10l.94 2.06.94-2.06 2.06-.94-2.06-.94-.94-2.06-.94 2.06-2.06.94z\"/><path d=\"M17.41 7.96l-1.37-1.37c-.4-.4-.92-.59-1.43-.59-.52 0-1.04.2-1.43.59L10.3 9.45l-7.72 7.72c-.78.78-.78 2.05 0 2.83L4 21.41c.39.39.9.59 1.41.59.51 0 1.02-.2 1.41-.59l7.78-7.78 2.81-2.81c.8-.78.8-2.07 0-2.86zM5.41 20L4 18.59l7.72-7.72 1.47 1.35L5.41 20z\"/>\n",
              "  </svg>\n",
              "      </button>\n",
              "      \n",
              "  <style>\n",
              "    .colab-df-container {\n",
              "      display:flex;\n",
              "      flex-wrap:wrap;\n",
              "      gap: 12px;\n",
              "    }\n",
              "\n",
              "    .colab-df-convert {\n",
              "      background-color: #E8F0FE;\n",
              "      border: none;\n",
              "      border-radius: 50%;\n",
              "      cursor: pointer;\n",
              "      display: none;\n",
              "      fill: #1967D2;\n",
              "      height: 32px;\n",
              "      padding: 0 0 0 0;\n",
              "      width: 32px;\n",
              "    }\n",
              "\n",
              "    .colab-df-convert:hover {\n",
              "      background-color: #E2EBFA;\n",
              "      box-shadow: 0px 1px 2px rgba(60, 64, 67, 0.3), 0px 1px 3px 1px rgba(60, 64, 67, 0.15);\n",
              "      fill: #174EA6;\n",
              "    }\n",
              "\n",
              "    [theme=dark] .colab-df-convert {\n",
              "      background-color: #3B4455;\n",
              "      fill: #D2E3FC;\n",
              "    }\n",
              "\n",
              "    [theme=dark] .colab-df-convert:hover {\n",
              "      background-color: #434B5C;\n",
              "      box-shadow: 0px 1px 3px 1px rgba(0, 0, 0, 0.15);\n",
              "      filter: drop-shadow(0px 1px 2px rgba(0, 0, 0, 0.3));\n",
              "      fill: #FFFFFF;\n",
              "    }\n",
              "  </style>\n",
              "\n",
              "      <script>\n",
              "        const buttonEl =\n",
              "          document.querySelector('#df-fc7d4d56-45b8-445b-a490-8240315430f3 button.colab-df-convert');\n",
              "        buttonEl.style.display =\n",
              "          google.colab.kernel.accessAllowed ? 'block' : 'none';\n",
              "\n",
              "        async function convertToInteractive(key) {\n",
              "          const element = document.querySelector('#df-fc7d4d56-45b8-445b-a490-8240315430f3');\n",
              "          const dataTable =\n",
              "            await google.colab.kernel.invokeFunction('convertToInteractive',\n",
              "                                                     [key], {});\n",
              "          if (!dataTable) return;\n",
              "\n",
              "          const docLinkHtml = 'Like what you see? Visit the ' +\n",
              "            '<a target=\"_blank\" href=https://colab.research.google.com/notebooks/data_table.ipynb>data table notebook</a>'\n",
              "            + ' to learn more about interactive tables.';\n",
              "          element.innerHTML = '';\n",
              "          dataTable['output_type'] = 'display_data';\n",
              "          await google.colab.output.renderOutput(dataTable, element);\n",
              "          const docLink = document.createElement('div');\n",
              "          docLink.innerHTML = docLinkHtml;\n",
              "          element.appendChild(docLink);\n",
              "        }\n",
              "      </script>\n",
              "    </div>\n",
              "  </div>\n",
              "  "
            ],
            "text/plain": [
              "         0         1         2   ...        17        18        19\n",
              "0  0.002240  0.423903  0.209612  ...  0.153750  0.338072  0.116715\n",
              "1  0.107504  0.162968  0.331926  ...  0.397587  0.191736  0.072539\n",
              "2  0.136765  0.117694  0.097720  ...  0.236707  0.435848  0.139214\n",
              "3  0.351805  0.363254  0.086816  ...  0.127531  0.088959  0.140681\n",
              "4  0.403048  0.068855  0.478228  ...  0.277688  0.052752  0.209177\n",
              "\n",
              "[5 rows x 20 columns]"
            ]
          },
          "metadata": {},
          "execution_count": 37
        }
      ]
    },
    {
      "cell_type": "code",
      "source": [
        "y_train.shape"
      ],
      "metadata": {
        "colab": {
          "base_uri": "https://localhost:8080/"
        },
        "id": "Cc7xeuJKvUx-",
        "outputId": "c1a5c7ba-eaf9-4e35-a1f0-2754f639fd09"
      },
      "execution_count": 28,
      "outputs": [
        {
          "output_type": "execute_result",
          "data": {
            "text/plain": [
              "(90, 1)"
            ]
          },
          "metadata": {},
          "execution_count": 28
        }
      ]
    },
    {
      "cell_type": "code",
      "source": [
        "y_train.head()"
      ],
      "metadata": {
        "colab": {
          "base_uri": "https://localhost:8080/",
          "height": 206
        },
        "id": "59Avgqzc7Vb2",
        "outputId": "a23ca811-f037-4982-d41a-88ab052d53db"
      },
      "execution_count": 38,
      "outputs": [
        {
          "output_type": "execute_result",
          "data": {
            "text/html": [
              "\n",
              "  <div id=\"df-fb337acf-6ab1-4f14-8664-868dc7f3a220\">\n",
              "    <div class=\"colab-df-container\">\n",
              "      <div>\n",
              "<style scoped>\n",
              "    .dataframe tbody tr th:only-of-type {\n",
              "        vertical-align: middle;\n",
              "    }\n",
              "\n",
              "    .dataframe tbody tr th {\n",
              "        vertical-align: top;\n",
              "    }\n",
              "\n",
              "    .dataframe thead th {\n",
              "        text-align: right;\n",
              "    }\n",
              "</style>\n",
              "<table border=\"1\" class=\"dataframe\">\n",
              "  <thead>\n",
              "    <tr style=\"text-align: right;\">\n",
              "      <th></th>\n",
              "      <th>0</th>\n",
              "    </tr>\n",
              "  </thead>\n",
              "  <tbody>\n",
              "    <tr>\n",
              "      <th>0</th>\n",
              "      <td>0</td>\n",
              "    </tr>\n",
              "    <tr>\n",
              "      <th>1</th>\n",
              "      <td>0</td>\n",
              "    </tr>\n",
              "    <tr>\n",
              "      <th>2</th>\n",
              "      <td>0</td>\n",
              "    </tr>\n",
              "    <tr>\n",
              "      <th>3</th>\n",
              "      <td>0</td>\n",
              "    </tr>\n",
              "    <tr>\n",
              "      <th>4</th>\n",
              "      <td>0</td>\n",
              "    </tr>\n",
              "  </tbody>\n",
              "</table>\n",
              "</div>\n",
              "      <button class=\"colab-df-convert\" onclick=\"convertToInteractive('df-fb337acf-6ab1-4f14-8664-868dc7f3a220')\"\n",
              "              title=\"Convert this dataframe to an interactive table.\"\n",
              "              style=\"display:none;\">\n",
              "        \n",
              "  <svg xmlns=\"http://www.w3.org/2000/svg\" height=\"24px\"viewBox=\"0 0 24 24\"\n",
              "       width=\"24px\">\n",
              "    <path d=\"M0 0h24v24H0V0z\" fill=\"none\"/>\n",
              "    <path d=\"M18.56 5.44l.94 2.06.94-2.06 2.06-.94-2.06-.94-.94-2.06-.94 2.06-2.06.94zm-11 1L8.5 8.5l.94-2.06 2.06-.94-2.06-.94L8.5 2.5l-.94 2.06-2.06.94zm10 10l.94 2.06.94-2.06 2.06-.94-2.06-.94-.94-2.06-.94 2.06-2.06.94z\"/><path d=\"M17.41 7.96l-1.37-1.37c-.4-.4-.92-.59-1.43-.59-.52 0-1.04.2-1.43.59L10.3 9.45l-7.72 7.72c-.78.78-.78 2.05 0 2.83L4 21.41c.39.39.9.59 1.41.59.51 0 1.02-.2 1.41-.59l7.78-7.78 2.81-2.81c.8-.78.8-2.07 0-2.86zM5.41 20L4 18.59l7.72-7.72 1.47 1.35L5.41 20z\"/>\n",
              "  </svg>\n",
              "      </button>\n",
              "      \n",
              "  <style>\n",
              "    .colab-df-container {\n",
              "      display:flex;\n",
              "      flex-wrap:wrap;\n",
              "      gap: 12px;\n",
              "    }\n",
              "\n",
              "    .colab-df-convert {\n",
              "      background-color: #E8F0FE;\n",
              "      border: none;\n",
              "      border-radius: 50%;\n",
              "      cursor: pointer;\n",
              "      display: none;\n",
              "      fill: #1967D2;\n",
              "      height: 32px;\n",
              "      padding: 0 0 0 0;\n",
              "      width: 32px;\n",
              "    }\n",
              "\n",
              "    .colab-df-convert:hover {\n",
              "      background-color: #E2EBFA;\n",
              "      box-shadow: 0px 1px 2px rgba(60, 64, 67, 0.3), 0px 1px 3px 1px rgba(60, 64, 67, 0.15);\n",
              "      fill: #174EA6;\n",
              "    }\n",
              "\n",
              "    [theme=dark] .colab-df-convert {\n",
              "      background-color: #3B4455;\n",
              "      fill: #D2E3FC;\n",
              "    }\n",
              "\n",
              "    [theme=dark] .colab-df-convert:hover {\n",
              "      background-color: #434B5C;\n",
              "      box-shadow: 0px 1px 3px 1px rgba(0, 0, 0, 0.15);\n",
              "      filter: drop-shadow(0px 1px 2px rgba(0, 0, 0, 0.3));\n",
              "      fill: #FFFFFF;\n",
              "    }\n",
              "  </style>\n",
              "\n",
              "      <script>\n",
              "        const buttonEl =\n",
              "          document.querySelector('#df-fb337acf-6ab1-4f14-8664-868dc7f3a220 button.colab-df-convert');\n",
              "        buttonEl.style.display =\n",
              "          google.colab.kernel.accessAllowed ? 'block' : 'none';\n",
              "\n",
              "        async function convertToInteractive(key) {\n",
              "          const element = document.querySelector('#df-fb337acf-6ab1-4f14-8664-868dc7f3a220');\n",
              "          const dataTable =\n",
              "            await google.colab.kernel.invokeFunction('convertToInteractive',\n",
              "                                                     [key], {});\n",
              "          if (!dataTable) return;\n",
              "\n",
              "          const docLinkHtml = 'Like what you see? Visit the ' +\n",
              "            '<a target=\"_blank\" href=https://colab.research.google.com/notebooks/data_table.ipynb>data table notebook</a>'\n",
              "            + ' to learn more about interactive tables.';\n",
              "          element.innerHTML = '';\n",
              "          dataTable['output_type'] = 'display_data';\n",
              "          await google.colab.output.renderOutput(dataTable, element);\n",
              "          const docLink = document.createElement('div');\n",
              "          docLink.innerHTML = docLinkHtml;\n",
              "          element.appendChild(docLink);\n",
              "        }\n",
              "      </script>\n",
              "    </div>\n",
              "  </div>\n",
              "  "
            ],
            "text/plain": [
              "   0\n",
              "0  0\n",
              "1  0\n",
              "2  0\n",
              "3  0\n",
              "4  0"
            ]
          },
          "metadata": {},
          "execution_count": 38
        }
      ]
    },
    {
      "cell_type": "markdown",
      "source": [
        "CNN Model"
      ],
      "metadata": {
        "id": "h36yi_-xsztG"
      }
    },
    {
      "cell_type": "code",
      "source": [
        "def network(X_train,y_train,X_test,y_test):\n",
        "    \n",
        "\n",
        "    im_shape=(X_train.shape[1],1)\n",
        "    inputs_cnn=Input(shape=(im_shape), name='inputs_cnn')\n",
        "    conv1_1=Convolution1D(64, (6), activation='relu', input_shape=im_shape)(inputs_cnn)\n",
        "    conv1_1=BatchNormalization()(conv1_1)\n",
        "    pool1=MaxPool1D(pool_size=(3), strides=(2), padding=\"same\")(conv1_1)\n",
        "    conv2_1=Convolution1D(64, (3), activation='relu', input_shape=im_shape)(pool1)\n",
        "    conv2_1=BatchNormalization()(conv2_1)\n",
        "    pool2=MaxPool1D(pool_size=(2), strides=(2), padding=\"same\")(conv2_1)\n",
        "    conv3_1=Convolution1D(64, (3), activation='relu', input_shape=im_shape)(pool2)\n",
        "    conv3_1=BatchNormalization()(conv3_1)\n",
        "    pool3=MaxPool1D(pool_size=(2), strides=(2), padding=\"same\")(conv3_1)\n",
        "    flatten=Flatten()(pool3)\n",
        "    dense_end1 = Dense(64, activation='relu')(flatten)\n",
        "    dense_end2 = Dense(32, activation='relu')(dense_end1)\n",
        "    main_output = Dense(5, activation='softmax', name='main_output')(dense_end2)\n",
        "    \n",
        "    \n",
        "    model = Model(inputs= inputs_cnn, outputs=main_output)\n",
        "    model.compile(optimizer='adam', loss='categorical_crossentropy',metrics = ['accuracy'])\n",
        "    \n",
        "    \n",
        "    callbacks = [EarlyStopping(monitor='val_loss', patience=8),\n",
        "             ModelCheckpoint(filepath='best_model.h5', monitor='val_loss', save_best_only=True)]\n",
        "\n",
        "    history=model.fit(X_train, y_train,epochs=40,callbacks=callbacks, batch_size=32,validation_data=(X_test,y_test))\n",
        "    model.load_weights('best_model.h5')\n",
        "    return(model,history)"
      ],
      "metadata": {
        "id": "1neHb3NWs17j"
      },
      "execution_count": 29,
      "outputs": []
    },
    {
      "cell_type": "code",
      "source": [
        "def evaluate_model(history,X_test,y_test,model):\n",
        "    scores = model.evaluate((X_test),y_test, verbose=0)\n",
        "    print(\"Accuracy: %.2f%%\" % (scores[1]*100))\n",
        "    \n",
        "    print(history)\n",
        "    fig1, ax_acc = plt.subplots()\n",
        "    plt.plot(history.history['accuracy'])\n",
        "    plt.plot(history.history['val_accuracy'])\n",
        "    plt.xlabel('Epoch')\n",
        "    plt.ylabel('Accuracy')\n",
        "    plt.title('Model - Accuracy')\n",
        "    plt.legend(['Training', 'Validation'], loc='lower right')\n",
        "    plt.show()\n",
        "    \n",
        "    fig2, ax_loss = plt.subplots()\n",
        "    plt.xlabel('Epoch')\n",
        "    plt.ylabel('Loss')\n",
        "    plt.title('Model- Loss')\n",
        "    plt.legend(['Training', 'Validation'], loc='upper right')\n",
        "    plt.plot(history.history['loss'])\n",
        "    plt.plot(history.history['val_loss'])\n",
        "    plt.show()\n",
        "    target_names=['0','1','2','3','4']\n",
        "    \n",
        "    y_true=[]\n",
        "    for element in y_test:\n",
        "        y_true.append(np.argmax(element))\n",
        "    prediction_proba=model.predict(X_test)\n",
        "    prediction=np.argmax(prediction_proba,axis=1)\n",
        "    cnf_matrix = confusion_matrix(y_true, prediction)\n",
        "    "
      ],
      "metadata": {
        "id": "DN7liFfJs3cY"
      },
      "execution_count": 35,
      "outputs": []
    },
    {
      "cell_type": "markdown",
      "source": [
        "training"
      ],
      "metadata": {
        "id": "Ml7DlquAtuCH"
      }
    },
    {
      "cell_type": "code",
      "source": [
        "from tensorflow.keras.utils import to_categorical\n",
        "y_train = to_categorical(y_train, 5)\n",
        "y_test = to_categorical(y_test, 5)\n",
        "y_train.shape"
      ],
      "metadata": {
        "colab": {
          "base_uri": "https://localhost:8080/"
        },
        "id": "9o6HrzjW76TC",
        "outputId": "9e069dde-14e5-4403-f70d-9202c102585c"
      },
      "execution_count": 40,
      "outputs": [
        {
          "output_type": "execute_result",
          "data": {
            "text/plain": [
              "(90, 5)"
            ]
          },
          "metadata": {},
          "execution_count": 40
        }
      ]
    },
    {
      "cell_type": "code",
      "source": [
        "from keras.layers import Dense, Convolution1D, MaxPool1D, Flatten, Dropout\n",
        "from keras.layers import Input\n",
        "from keras.models import Model\n",
        "from tensorflow.keras.layers import BatchNormalization\n",
        "import keras\n",
        "from keras.callbacks import EarlyStopping, ModelCheckpoint\n",
        "\n",
        "model,history=network(X_train,y_train,X_test,y_test)"
      ],
      "metadata": {
        "colab": {
          "base_uri": "https://localhost:8080/"
        },
        "id": "SmqDra5DtvLk",
        "outputId": "392fdc73-97a6-4d39-96e8-b8e5ab4a3af1"
      },
      "execution_count": 41,
      "outputs": [
        {
          "output_type": "stream",
          "name": "stdout",
          "text": [
            "Epoch 1/40\n",
            "3/3 [==============================] - 2s 209ms/step - loss: 2.1832 - accuracy: 0.1556 - val_loss: 1.6123 - val_accuracy: 0.5556\n",
            "Epoch 2/40\n",
            "3/3 [==============================] - 0s 60ms/step - loss: 1.3005 - accuracy: 0.4889 - val_loss: 1.5751 - val_accuracy: 0.5556\n",
            "Epoch 3/40\n",
            "3/3 [==============================] - 0s 54ms/step - loss: 0.8669 - accuracy: 0.6778 - val_loss: 1.5377 - val_accuracy: 0.5556\n",
            "Epoch 4/40\n",
            "3/3 [==============================] - 0s 52ms/step - loss: 0.6364 - accuracy: 0.6778 - val_loss: 1.4996 - val_accuracy: 0.5556\n",
            "Epoch 5/40\n",
            "3/3 [==============================] - 0s 57ms/step - loss: 0.5092 - accuracy: 0.7444 - val_loss: 1.4624 - val_accuracy: 0.5556\n",
            "Epoch 6/40\n",
            "3/3 [==============================] - 0s 49ms/step - loss: 0.4069 - accuracy: 0.8000 - val_loss: 1.4220 - val_accuracy: 0.5556\n",
            "Epoch 7/40\n",
            "3/3 [==============================] - 0s 49ms/step - loss: 0.3330 - accuracy: 0.8889 - val_loss: 1.3790 - val_accuracy: 0.5556\n",
            "Epoch 8/40\n",
            "3/3 [==============================] - 0s 56ms/step - loss: 0.3130 - accuracy: 0.8889 - val_loss: 1.3347 - val_accuracy: 0.5556\n",
            "Epoch 9/40\n",
            "3/3 [==============================] - 0s 55ms/step - loss: 0.2678 - accuracy: 0.8889 - val_loss: 1.2902 - val_accuracy: 0.5556\n",
            "Epoch 10/40\n",
            "3/3 [==============================] - 0s 56ms/step - loss: 0.2609 - accuracy: 0.8889 - val_loss: 1.2489 - val_accuracy: 0.5667\n",
            "Epoch 11/40\n",
            "3/3 [==============================] - 0s 53ms/step - loss: 0.2356 - accuracy: 0.8889 - val_loss: 1.2123 - val_accuracy: 0.5556\n",
            "Epoch 12/40\n",
            "3/3 [==============================] - 0s 57ms/step - loss: 0.2283 - accuracy: 0.8889 - val_loss: 1.1806 - val_accuracy: 0.5556\n",
            "Epoch 13/40\n",
            "3/3 [==============================] - 0s 53ms/step - loss: 0.2114 - accuracy: 0.8889 - val_loss: 1.1529 - val_accuracy: 0.5556\n",
            "Epoch 14/40\n",
            "3/3 [==============================] - 0s 62ms/step - loss: 0.2127 - accuracy: 0.8889 - val_loss: 1.1303 - val_accuracy: 0.5556\n",
            "Epoch 15/40\n",
            "3/3 [==============================] - 0s 56ms/step - loss: 0.1994 - accuracy: 0.8889 - val_loss: 1.1138 - val_accuracy: 0.5556\n",
            "Epoch 16/40\n",
            "3/3 [==============================] - 0s 57ms/step - loss: 0.1925 - accuracy: 0.9000 - val_loss: 1.1014 - val_accuracy: 0.5556\n",
            "Epoch 17/40\n",
            "3/3 [==============================] - 0s 61ms/step - loss: 0.1870 - accuracy: 0.9000 - val_loss: 1.0912 - val_accuracy: 0.5556\n",
            "Epoch 18/40\n",
            "3/3 [==============================] - 0s 54ms/step - loss: 0.1636 - accuracy: 0.9444 - val_loss: 1.0867 - val_accuracy: 0.5556\n",
            "Epoch 19/40\n",
            "3/3 [==============================] - 0s 61ms/step - loss: 0.1463 - accuracy: 0.9444 - val_loss: 1.0838 - val_accuracy: 0.5556\n",
            "Epoch 20/40\n",
            "3/3 [==============================] - 0s 57ms/step - loss: 0.1537 - accuracy: 0.9667 - val_loss: 1.0787 - val_accuracy: 0.5556\n",
            "Epoch 21/40\n",
            "3/3 [==============================] - 0s 47ms/step - loss: 0.1318 - accuracy: 0.9556 - val_loss: 1.0703 - val_accuracy: 0.5556\n",
            "Epoch 22/40\n",
            "3/3 [==============================] - 0s 53ms/step - loss: 0.1240 - accuracy: 0.9667 - val_loss: 1.0640 - val_accuracy: 0.5556\n",
            "Epoch 23/40\n",
            "3/3 [==============================] - 0s 52ms/step - loss: 0.0991 - accuracy: 0.9667 - val_loss: 1.0595 - val_accuracy: 0.5556\n",
            "Epoch 24/40\n",
            "3/3 [==============================] - 0s 52ms/step - loss: 0.0881 - accuracy: 0.9889 - val_loss: 1.0577 - val_accuracy: 0.5556\n",
            "Epoch 25/40\n",
            "3/3 [==============================] - 0s 48ms/step - loss: 0.0929 - accuracy: 0.9889 - val_loss: 1.0567 - val_accuracy: 0.5556\n",
            "Epoch 26/40\n",
            "3/3 [==============================] - 0s 59ms/step - loss: 0.0704 - accuracy: 0.9889 - val_loss: 1.0514 - val_accuracy: 0.5556\n",
            "Epoch 27/40\n",
            "3/3 [==============================] - 0s 52ms/step - loss: 0.0505 - accuracy: 1.0000 - val_loss: 1.0465 - val_accuracy: 0.5556\n",
            "Epoch 28/40\n",
            "3/3 [==============================] - 0s 59ms/step - loss: 0.0615 - accuracy: 1.0000 - val_loss: 1.0406 - val_accuracy: 0.5556\n",
            "Epoch 29/40\n",
            "3/3 [==============================] - 0s 55ms/step - loss: 0.0401 - accuracy: 1.0000 - val_loss: 1.0346 - val_accuracy: 0.5556\n",
            "Epoch 30/40\n",
            "3/3 [==============================] - 0s 50ms/step - loss: 0.0327 - accuracy: 1.0000 - val_loss: 1.0297 - val_accuracy: 0.5556\n",
            "Epoch 31/40\n",
            "3/3 [==============================] - 0s 20ms/step - loss: 0.0349 - accuracy: 1.0000 - val_loss: 1.0309 - val_accuracy: 0.5556\n",
            "Epoch 32/40\n",
            "3/3 [==============================] - 0s 47ms/step - loss: 0.0216 - accuracy: 1.0000 - val_loss: 1.0282 - val_accuracy: 0.5556\n",
            "Epoch 33/40\n",
            "3/3 [==============================] - 0s 56ms/step - loss: 0.0188 - accuracy: 1.0000 - val_loss: 1.0247 - val_accuracy: 0.5556\n",
            "Epoch 34/40\n",
            "3/3 [==============================] - 0s 31ms/step - loss: 0.0139 - accuracy: 1.0000 - val_loss: 1.0283 - val_accuracy: 0.5556\n",
            "Epoch 35/40\n",
            "3/3 [==============================] - 0s 25ms/step - loss: 0.0146 - accuracy: 1.0000 - val_loss: 1.0346 - val_accuracy: 0.5556\n",
            "Epoch 36/40\n",
            "3/3 [==============================] - 0s 24ms/step - loss: 0.0120 - accuracy: 1.0000 - val_loss: 1.0467 - val_accuracy: 0.5556\n",
            "Epoch 37/40\n",
            "3/3 [==============================] - 0s 30ms/step - loss: 0.0092 - accuracy: 1.0000 - val_loss: 1.0528 - val_accuracy: 0.5556\n",
            "Epoch 38/40\n",
            "3/3 [==============================] - 0s 24ms/step - loss: 0.0059 - accuracy: 1.0000 - val_loss: 1.0535 - val_accuracy: 0.5556\n",
            "Epoch 39/40\n",
            "3/3 [==============================] - 0s 22ms/step - loss: 0.0140 - accuracy: 1.0000 - val_loss: 1.0526 - val_accuracy: 0.5556\n",
            "Epoch 40/40\n",
            "3/3 [==============================] - 0s 25ms/step - loss: 0.0045 - accuracy: 1.0000 - val_loss: 1.0440 - val_accuracy: 0.5556\n"
          ]
        }
      ]
    },
    {
      "cell_type": "markdown",
      "source": [
        "plotting"
      ],
      "metadata": {
        "id": "PMxJOwUJ4fyq"
      }
    },
    {
      "cell_type": "code",
      "source": [
        "evaluate_model(history,X_test,y_test,model)\n",
        "y_pred=model.predict(X_test)"
      ],
      "metadata": {
        "colab": {
          "base_uri": "https://localhost:8080/",
          "height": 608
        },
        "id": "XieuE3Xb8U75",
        "outputId": "0a486f69-cbe6-4c4a-f45f-0e9bf60496de"
      },
      "execution_count": 43,
      "outputs": [
        {
          "output_type": "stream",
          "name": "stdout",
          "text": [
            "Accuracy: 55.56%\n",
            "<keras.callbacks.History object at 0x7fb7e434fbd0>\n"
          ]
        },
        {
          "output_type": "display_data",
          "data": {
            "image/png": "[encoded data removed]",
            "text/plain": [
              "<Figure size 432x288 with 1 Axes>"
            ]
          },
          "metadata": {
            "needs_background": "light"
          }
        },
        {
          "output_type": "display_data",
          "data": {
            "image/png": "[encoded data removed]",
            "text/plain": [
              "<Figure size 432x288 with 1 Axes>"
            ]
          },
          "metadata": {
            "needs_background": "light"
          }
        }
      ]
    },
    {
      "cell_type": "code",
      "source": [
        "import itertools\n",
        "def plot_confusion_matrix(cm, classes,\n",
        "                          normalize=False,\n",
        "                          title='Confusion matrix',\n",
        "                          cmap=plt.cm.Blues):\n",
        "    \"\"\"\n",
        "    This function prints and plots the confusion matrix.\n",
        "    Normalization can be applied by setting `normalize=True`.\n",
        "    \"\"\"\n",
        "    if normalize:\n",
        "        cm = cm.astype('float') / cm.sum(axis=1)[:, np.newaxis]\n",
        "        print(\"Normalized confusion matrix\")\n",
        "    else:\n",
        "        print('Confusion matrix, without normalization')\n",
        "\n",
        "    plt.imshow(cm, interpolation='nearest', cmap=cmap)\n",
        "    plt.title(title)\n",
        "    plt.colorbar()\n",
        "    tick_marks = np.arange(len(classes))\n",
        "    plt.xticks(tick_marks, classes, rotation=45)\n",
        "    plt.yticks(tick_marks, classes)\n",
        "\n",
        "    fmt = '.2f' if normalize else 'd'\n",
        "    thresh = cm.max() / 2.\n",
        "    for i, j in itertools.product(range(cm.shape[0]), range(cm.shape[1])):\n",
        "        plt.text(j, i, format(cm[i, j], fmt),\n",
        "                 horizontalalignment=\"center\",\n",
        "                 color=\"white\" if cm[i, j] > thresh else \"black\")\n",
        "\n",
        "    plt.tight_layout()\n",
        "    plt.ylabel('True label')\n",
        "    plt.xlabel('Predicted label')\n",
        "\n",
        "# Compute confusion matrix\n",
        "cnf_matrix = confusion_matrix(y_test.argmax(axis=1), y_pred.argmax(axis=1))\n",
        "np.set_printoptions(precision=2)\n",
        "\n",
        "# Plot non-normalized confusion matrix\n",
        "plt.figure(figsize=(10, 10))\n",
        "plot_confusion_matrix(cnf_matrix, classes=['N', 'S'],normalize=True,\n",
        "                      title='Confusion matrix, with normalization')\n",
        "plt.show()"
      ],
      "metadata": {
        "colab": {
          "base_uri": "https://localhost:8080/",
          "height": 746
        },
        "id": "yH02Qr2w4evu",
        "outputId": "3197b0cc-a402-48cc-8365-0ec78f9b8359"
      },
      "execution_count": 45,
      "outputs": [
        {
          "output_type": "stream",
          "name": "stdout",
          "text": [
            "Normalized confusion matrix\n"
          ]
        },
        {
          "output_type": "display_data",
          "data": {
            "image/png": "[encoded data removed]",
            "text/plain": [
              "<Figure size 720x720 with 2 Axes>"
            ]
          },
          "metadata": {
            "needs_background": "light"
          }
        }
      ]
    }
  ]
}